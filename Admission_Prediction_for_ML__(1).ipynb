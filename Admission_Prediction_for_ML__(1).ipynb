{
  "nbformat": 4,
  "nbformat_minor": 0,
  "metadata": {
    "kernelspec": {
      "display_name": "Python 3",
      "language": "python",
      "name": "python3"
    },
    "language_info": {
      "codemirror_mode": {
        "name": "ipython",
        "version": 3
      },
      "file_extension": ".py",
      "mimetype": "text/x-python",
      "name": "python",
      "nbconvert_exporter": "python",
      "pygments_lexer": "ipython3",
      "version": "3.7.3"
    },
    "colab": {
      "name": "Admission_Prediction_for_ML_ (1).ipynb",
      "provenance": []
    }
  },
  "cells": [
    {
      "cell_type": "code",
      "metadata": {
        "id": "Z-Brf_82wik3"
      },
      "source": [
        "import pandas as pd\n",
        "import numpy as np\n",
        "import matplotlib.pyplot as plt\n",
        "%matplotlib inline"
      ],
      "execution_count": 1,
      "outputs": []
    },
    {
      "cell_type": "code",
      "metadata": {
        "colab": {
          "resources": {
            "http://localhost:8080/nbextensions/google.colab/files.js": {
              "data": "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",
              "ok": true,
              "headers": [
                [
                  "content-type",
                  "application/javascript"
                ]
              ],
              "status": 200,
              "status_text": ""
            }
          },
          "base_uri": "https://localhost:8080/",
          "height": 111
        },
        "id": "ooAX76eu1mmN",
        "outputId": "d0e61fce-3e31-4043-d66a-ffcf844b644a"
      },
      "source": [
        "from google.colab import files\n",
        "files.upload()"
      ],
      "execution_count": 2,
      "outputs": [
        {
          "output_type": "display_data",
          "data": {
            "text/plain": [
              "<IPython.core.display.HTML object>"
            ],
            "text/html": [
              "\n",
              "     <input type=\"file\" id=\"files-c4b8b558-6d25-47d2-8f45-0ace93b3d7f1\" name=\"files[]\" multiple disabled\n",
              "        style=\"border:none\" />\n",
              "     <output id=\"result-c4b8b558-6d25-47d2-8f45-0ace93b3d7f1\">\n",
              "      Upload widget is only available when the cell has been executed in the\n",
              "      current browser session. Please rerun this cell to enable.\n",
              "      </output>\n",
              "      <script src=\"/nbextensions/google.colab/files.js\"></script> "
            ]
          },
          "metadata": {}
        },
        {
          "output_type": "stream",
          "name": "stdout",
          "text": [
            "Saving Admission_Predict.csv to Admission_Predict.csv\n"
          ]
        },
        {
          "output_type": "execute_result",
          "data": {
            "text/plain": [
              "{'Admission_Predict.csv': b'Serial No.,GRE Score,TOEFL Score,University Rating,SOP,LOR,CGPA,Research,Chance of Admit\\r\\n1,337,118,4,4.5,4.5,9.65,1,0.92\\r\\n2,324,107,4,4,4.5,8.87,1,0.76\\r\\n3,316,104,3,3,3.5,8,1,0.72\\r\\n4,322,110,3,3.5,2.5,8.67,1,0.8\\r\\n5,314,103,2,2,3,8.21,0,0.65\\r\\n6,330,115,5,4.5,3,9.34,1,0.9\\r\\n7,321,109,3,3,4,8.2,1,0.75\\r\\n8,308,101,2,3,4,7.9,0,0.68\\r\\n9,302,102,1,2,1.5,8,0,0.5\\r\\n10,323,108,3,3.5,3,8.6,0,0.45\\r\\n11,325,106,3,3.5,4,8.4,1,0.52\\r\\n12,327,111,4,4,4.5,9,1,0.84\\r\\n13,328,112,4,4,4.5,9.1,1,0.78\\r\\n14,307,109,3,4,3,8,1,0.62\\r\\n15,311,104,3,3.5,2,8.2,1,0.61\\r\\n16,314,105,3,3.5,2.5,8.3,0,0.54\\r\\n17,317,107,3,4,3,8.7,0,0.66\\r\\n18,319,106,3,4,3,8,1,0.65\\r\\n19,318,110,3,4,3,8.8,0,0.63\\r\\n20,303,102,3,3.5,3,8.5,0,0.62\\r\\n21,312,107,3,3,2,7.9,1,0.64\\r\\n22,325,114,4,3,2,8.4,0,0.7\\r\\n23,328,116,5,5,5,9.5,1,0.94\\r\\n24,334,119,5,5,4.5,9.7,1,0.95\\r\\n25,336,119,5,4,3.5,9.8,1,0.97\\r\\n26,340,120,5,4.5,4.5,9.6,1,0.94\\r\\n27,322,109,5,4.5,3.5,8.8,0,0.76\\r\\n28,298,98,2,1.5,2.5,7.5,1,0.44\\r\\n29,295,93,1,2,2,7.2,0,0.46\\r\\n30,310,99,2,1.5,2,7.3,0,0.54\\r\\n31,300,97,2,3,3,8.1,1,0.65\\r\\n32,327,103,3,4,4,8.3,1,0.74\\r\\n33,338,118,4,3,4.5,9.4,1,0.91\\r\\n34,340,114,5,4,4,9.6,1,0.9\\r\\n35,331,112,5,4,5,9.8,1,0.94\\r\\n36,320,110,5,5,5,9.2,1,0.88\\r\\n37,299,106,2,4,4,8.4,0,0.64\\r\\n38,300,105,1,1,2,7.8,0,0.58\\r\\n39,304,105,1,3,1.5,7.5,0,0.52\\r\\n40,307,108,2,4,3.5,7.7,0,0.48\\r\\n41,308,110,3,3.5,3,8,1,0.46\\r\\n42,316,105,2,2.5,2.5,8.2,1,0.49\\r\\n43,313,107,2,2.5,2,8.5,1,0.53\\r\\n44,332,117,4,4.5,4,9.1,0,0.87\\r\\n45,326,113,5,4.5,4,9.4,1,0.91\\r\\n46,322,110,5,5,4,9.1,1,0.88\\r\\n47,329,114,5,4,5,9.3,1,0.86\\r\\n48,339,119,5,4.5,4,9.7,0,0.89\\r\\n49,321,110,3,3.5,5,8.85,1,0.82\\r\\n50,327,111,4,3,4,8.4,1,0.78\\r\\n51,313,98,3,2.5,4.5,8.3,1,0.76\\r\\n52,312,100,2,1.5,3.5,7.9,1,0.56\\r\\n53,334,116,4,4,3,8,1,0.78\\r\\n54,324,112,4,4,2.5,8.1,1,0.72\\r\\n55,322,110,3,3,3.5,8,0,0.7\\r\\n56,320,103,3,3,3,7.7,0,0.64\\r\\n57,316,102,3,2,3,7.4,0,0.64\\r\\n58,298,99,2,4,2,7.6,0,0.46\\r\\n59,300,99,1,3,2,6.8,1,0.36\\r\\n60,311,104,2,2,2,8.3,0,0.42\\r\\n61,309,100,2,3,3,8.1,0,0.48\\r\\n62,307,101,3,4,3,8.2,0,0.47\\r\\n63,304,105,2,3,3,8.2,1,0.54\\r\\n64,315,107,2,4,3,8.5,1,0.56\\r\\n65,325,111,3,3,3.5,8.7,0,0.52\\r\\n66,325,112,4,3.5,3.5,8.92,0,0.55\\r\\n67,327,114,3,3,3,9.02,0,0.61\\r\\n68,316,107,2,3.5,3.5,8.64,1,0.57\\r\\n69,318,109,3,3.5,4,9.22,1,0.68\\r\\n70,328,115,4,4.5,4,9.16,1,0.78\\r\\n71,332,118,5,5,5,9.64,1,0.94\\r\\n72,336,112,5,5,5,9.76,1,0.96\\r\\n73,321,111,5,5,5,9.45,1,0.93\\r\\n74,314,108,4,4.5,4,9.04,1,0.84\\r\\n75,314,106,3,3,5,8.9,0,0.74\\r\\n76,329,114,2,2,4,8.56,1,0.72\\r\\n77,327,112,3,3,3,8.72,1,0.74\\r\\n78,301,99,2,3,2,8.22,0,0.64\\r\\n79,296,95,2,3,2,7.54,1,0.44\\r\\n80,294,93,1,1.5,2,7.36,0,0.46\\r\\n81,312,105,3,2,3,8.02,1,0.5\\r\\n82,340,120,4,5,5,9.5,1,0.96\\r\\n83,320,110,5,5,4.5,9.22,1,0.92\\r\\n84,322,115,5,4,4.5,9.36,1,0.92\\r\\n85,340,115,5,4.5,4.5,9.45,1,0.94\\r\\n86,319,103,4,4.5,3.5,8.66,0,0.76\\r\\n87,315,106,3,4.5,3.5,8.42,0,0.72\\r\\n88,317,107,2,3.5,3,8.28,0,0.66\\r\\n89,314,108,3,4.5,3.5,8.14,0,0.64\\r\\n90,316,109,4,4.5,3.5,8.76,1,0.74\\r\\n91,318,106,2,4,4,7.92,1,0.64\\r\\n92,299,97,3,5,3.5,7.66,0,0.38\\r\\n93,298,98,2,4,3,8.03,0,0.34\\r\\n94,301,97,2,3,3,7.88,1,0.44\\r\\n95,303,99,3,2,2.5,7.66,0,0.36\\r\\n96,304,100,4,1.5,2.5,7.84,0,0.42\\r\\n97,306,100,2,3,3,8,0,0.48\\r\\n98,331,120,3,4,4,8.96,1,0.86\\r\\n99,332,119,4,5,4.5,9.24,1,0.9\\r\\n100,323,113,3,4,4,8.88,1,0.79\\r\\n101,322,107,3,3.5,3.5,8.46,1,0.71\\r\\n102,312,105,2,2.5,3,8.12,0,0.64\\r\\n103,314,106,2,4,3.5,8.25,0,0.62\\r\\n104,317,104,2,4.5,4,8.47,0,0.57\\r\\n105,326,112,3,3.5,3,9.05,1,0.74\\r\\n106,316,110,3,4,4.5,8.78,1,0.69\\r\\n107,329,111,4,4.5,4.5,9.18,1,0.87\\r\\n108,338,117,4,3.5,4.5,9.46,1,0.91\\r\\n109,331,116,5,5,5,9.38,1,0.93\\r\\n110,304,103,5,5,4,8.64,0,0.68\\r\\n111,305,108,5,3,3,8.48,0,0.61\\r\\n112,321,109,4,4,4,8.68,1,0.69\\r\\n113,301,107,3,3.5,3.5,8.34,1,0.62\\r\\n114,320,110,2,4,3.5,8.56,0,0.72\\r\\n115,311,105,3,3.5,3,8.45,1,0.59\\r\\n116,310,106,4,4.5,4.5,9.04,1,0.66\\r\\n117,299,102,3,4,3.5,8.62,0,0.56\\r\\n118,290,104,4,2,2.5,7.46,0,0.45\\r\\n119,296,99,2,3,3.5,7.28,0,0.47\\r\\n120,327,104,5,3,3.5,8.84,1,0.71\\r\\n121,335,117,5,5,5,9.56,1,0.94\\r\\n122,334,119,5,4.5,4.5,9.48,1,0.94\\r\\n123,310,106,4,1.5,2.5,8.36,0,0.57\\r\\n124,308,108,3,3.5,3.5,8.22,0,0.61\\r\\n125,301,106,4,2.5,3,8.47,0,0.57\\r\\n126,300,100,3,2,3,8.66,1,0.64\\r\\n127,323,113,3,4,3,9.32,1,0.85\\r\\n128,319,112,3,2.5,2,8.71,1,0.78\\r\\n129,326,112,3,3.5,3,9.1,1,0.84\\r\\n130,333,118,5,5,5,9.35,1,0.92\\r\\n131,339,114,5,4,4.5,9.76,1,0.96\\r\\n132,303,105,5,5,4.5,8.65,0,0.77\\r\\n133,309,105,5,3.5,3.5,8.56,0,0.71\\r\\n134,323,112,5,4,4.5,8.78,0,0.79\\r\\n135,333,113,5,4,4,9.28,1,0.89\\r\\n136,314,109,4,3.5,4,8.77,1,0.82\\r\\n137,312,103,3,5,4,8.45,0,0.76\\r\\n138,316,100,2,1.5,3,8.16,1,0.71\\r\\n139,326,116,2,4.5,3,9.08,1,0.8\\r\\n140,318,109,1,3.5,3.5,9.12,0,0.78\\r\\n141,329,110,2,4,3,9.15,1,0.84\\r\\n142,332,118,2,4.5,3.5,9.36,1,0.9\\r\\n143,331,115,5,4,3.5,9.44,1,0.92\\r\\n144,340,120,4,4.5,4,9.92,1,0.97\\r\\n145,325,112,2,3,3.5,8.96,1,0.8\\r\\n146,320,113,2,2,2.5,8.64,1,0.81\\r\\n147,315,105,3,2,2.5,8.48,0,0.75\\r\\n148,326,114,3,3,3,9.11,1,0.83\\r\\n149,339,116,4,4,3.5,9.8,1,0.96\\r\\n150,311,106,2,3.5,3,8.26,1,0.79\\r\\n151,334,114,4,4,4,9.43,1,0.93\\r\\n152,332,116,5,5,5,9.28,1,0.94\\r\\n153,321,112,5,5,5,9.06,1,0.86\\r\\n154,324,105,3,3,4,8.75,0,0.79\\r\\n155,326,108,3,3,3.5,8.89,0,0.8\\r\\n156,312,109,3,3,3,8.69,0,0.77\\r\\n157,315,105,3,2,2.5,8.34,0,0.7\\r\\n158,309,104,2,2,2.5,8.26,0,0.65\\r\\n159,306,106,2,2,2.5,8.14,0,0.61\\r\\n160,297,100,1,1.5,2,7.9,0,0.52\\r\\n161,315,103,1,1.5,2,7.86,0,0.57\\r\\n162,298,99,1,1.5,3,7.46,0,0.53\\r\\n163,318,109,3,3,3,8.5,0,0.67\\r\\n164,317,105,3,3.5,3,8.56,0,0.68\\r\\n165,329,111,4,4.5,4,9.01,1,0.81\\r\\n166,322,110,5,4.5,4,8.97,0,0.78\\r\\n167,302,102,3,3.5,5,8.33,0,0.65\\r\\n168,313,102,3,2,3,8.27,0,0.64\\r\\n169,293,97,2,2,4,7.8,1,0.64\\r\\n170,311,99,2,2.5,3,7.98,0,0.65\\r\\n171,312,101,2,2.5,3.5,8.04,1,0.68\\r\\n172,334,117,5,4,4.5,9.07,1,0.89\\r\\n173,322,110,4,4,5,9.13,1,0.86\\r\\n174,323,113,4,4,4.5,9.23,1,0.89\\r\\n175,321,111,4,4,4,8.97,1,0.87\\r\\n176,320,111,4,4.5,3.5,8.87,1,0.85\\r\\n177,329,119,4,4.5,4.5,9.16,1,0.9\\r\\n178,319,110,3,3.5,3.5,9.04,0,0.82\\r\\n179,309,108,3,2.5,3,8.12,0,0.72\\r\\n180,307,102,3,3,3,8.27,0,0.73\\r\\n181,300,104,3,3.5,3,8.16,0,0.71\\r\\n182,305,107,2,2.5,2.5,8.42,0,0.71\\r\\n183,299,100,2,3,3.5,7.88,0,0.68\\r\\n184,314,110,3,4,4,8.8,0,0.75\\r\\n185,316,106,2,2.5,4,8.32,0,0.72\\r\\n186,327,113,4,4.5,4.5,9.11,1,0.89\\r\\n187,317,107,3,3.5,3,8.68,1,0.84\\r\\n188,335,118,5,4.5,3.5,9.44,1,0.93\\r\\n189,331,115,5,4.5,3.5,9.36,1,0.93\\r\\n190,324,112,5,5,5,9.08,1,0.88\\r\\n191,324,111,5,4.5,4,9.16,1,0.9\\r\\n192,323,110,5,4,5,8.98,1,0.87\\r\\n193,322,114,5,4.5,4,8.94,1,0.86\\r\\n194,336,118,5,4.5,5,9.53,1,0.94\\r\\n195,316,109,3,3.5,3,8.76,0,0.77\\r\\n196,307,107,2,3,3.5,8.52,1,0.78\\r\\n197,306,105,2,3,2.5,8.26,0,0.73\\r\\n198,310,106,2,3.5,2.5,8.33,0,0.73\\r\\n199,311,104,3,4.5,4.5,8.43,0,0.7\\r\\n200,313,107,3,4,4.5,8.69,0,0.72\\r\\n201,317,103,3,2.5,3,8.54,1,0.73\\r\\n202,315,110,2,3.5,3,8.46,1,0.72\\r\\n203,340,120,5,4.5,4.5,9.91,1,0.97\\r\\n204,334,120,5,4,5,9.87,1,0.97\\r\\n205,298,105,3,3.5,4,8.54,0,0.69\\r\\n206,295,99,2,2.5,3,7.65,0,0.57\\r\\n207,315,99,2,3.5,3,7.89,0,0.63\\r\\n208,310,102,3,3.5,4,8.02,1,0.66\\r\\n209,305,106,2,3,3,8.16,0,0.64\\r\\n210,301,104,3,3.5,4,8.12,1,0.68\\r\\n211,325,108,4,4.5,4,9.06,1,0.79\\r\\n212,328,110,4,5,4,9.14,1,0.82\\r\\n213,338,120,4,5,5,9.66,1,0.95\\r\\n214,333,119,5,5,4.5,9.78,1,0.96\\r\\n215,331,117,4,4.5,5,9.42,1,0.94\\r\\n216,330,116,5,5,4.5,9.36,1,0.93\\r\\n217,322,112,4,4.5,4.5,9.26,1,0.91\\r\\n218,321,109,4,4,4,9.13,1,0.85\\r\\n219,324,110,4,3,3.5,8.97,1,0.84\\r\\n220,312,104,3,3.5,3.5,8.42,0,0.74\\r\\n221,313,103,3,4,4,8.75,0,0.76\\r\\n222,316,110,3,3.5,4,8.56,0,0.75\\r\\n223,324,113,4,4.5,4,8.79,0,0.76\\r\\n224,308,109,2,3,4,8.45,0,0.71\\r\\n225,305,105,2,3,2,8.23,0,0.67\\r\\n226,296,99,2,2.5,2.5,8.03,0,0.61\\r\\n227,306,110,2,3.5,4,8.45,0,0.63\\r\\n228,312,110,2,3.5,3,8.53,0,0.64\\r\\n229,318,112,3,4,3.5,8.67,0,0.71\\r\\n230,324,111,4,3,3,9.01,1,0.82\\r\\n231,313,104,3,4,4.5,8.65,0,0.73\\r\\n232,319,106,3,3.5,2.5,8.33,1,0.74\\r\\n233,312,107,2,2.5,3.5,8.27,0,0.69\\r\\n234,304,100,2,2.5,3.5,8.07,0,0.64\\r\\n235,330,113,5,5,4,9.31,1,0.91\\r\\n236,326,111,5,4.5,4,9.23,1,0.88\\r\\n237,325,112,4,4,4.5,9.17,1,0.85\\r\\n238,329,114,5,4.5,5,9.19,1,0.86\\r\\n239,310,104,3,2,3.5,8.37,0,0.7\\r\\n240,299,100,1,1.5,2,7.89,0,0.59\\r\\n241,296,101,1,2.5,3,7.68,0,0.6\\r\\n242,317,103,2,2.5,2,8.15,0,0.65\\r\\n243,324,115,3,3.5,3,8.76,1,0.7\\r\\n244,325,114,3,3.5,3,9.04,1,0.76\\r\\n245,314,107,2,2.5,4,8.56,0,0.63\\r\\n246,328,110,4,4,2.5,9.02,1,0.81\\r\\n247,316,105,3,3,3.5,8.73,0,0.72\\r\\n248,311,104,2,2.5,3.5,8.48,0,0.71\\r\\n249,324,110,3,3.5,4,8.87,1,0.8\\r\\n250,321,111,3,3.5,4,8.83,1,0.77\\r\\n251,320,104,3,3,2.5,8.57,1,0.74\\r\\n252,316,99,2,2.5,3,9,0,0.7\\r\\n253,318,100,2,2.5,3.5,8.54,1,0.71\\r\\n254,335,115,4,4.5,4.5,9.68,1,0.93\\r\\n255,321,114,4,4,5,9.12,0,0.85\\r\\n256,307,110,4,4,4.5,8.37,0,0.79\\r\\n257,309,99,3,4,4,8.56,0,0.76\\r\\n258,324,100,3,4,5,8.64,1,0.78\\r\\n259,326,102,4,5,5,8.76,1,0.77\\r\\n260,331,119,4,5,4.5,9.34,1,0.9\\r\\n261,327,108,5,5,3.5,9.13,1,0.87\\r\\n262,312,104,3,3.5,4,8.09,0,0.71\\r\\n263,308,103,2,2.5,4,8.36,1,0.7\\r\\n264,324,111,3,2.5,1.5,8.79,1,0.7\\r\\n265,325,110,2,3,2.5,8.76,1,0.75\\r\\n266,313,102,3,2.5,2.5,8.68,0,0.71\\r\\n267,312,105,2,2,2.5,8.45,0,0.72\\r\\n268,314,107,3,3,3.5,8.17,1,0.73\\r\\n269,327,113,4,4.5,5,9.14,0,0.83\\r\\n270,308,108,4,4.5,5,8.34,0,0.77\\r\\n271,306,105,2,2.5,3,8.22,1,0.72\\r\\n272,299,96,2,1.5,2,7.86,0,0.54\\r\\n273,294,95,1,1.5,1.5,7.64,0,0.49\\r\\n274,312,99,1,1,1.5,8.01,1,0.52\\r\\n275,315,100,1,2,2.5,7.95,0,0.58\\r\\n276,322,110,3,3.5,3,8.96,1,0.78\\r\\n277,329,113,5,5,4.5,9.45,1,0.89\\r\\n278,320,101,2,2.5,3,8.62,0,0.7\\r\\n279,308,103,2,3,3.5,8.49,0,0.66\\r\\n280,304,102,2,3,4,8.73,0,0.67\\r\\n281,311,102,3,4.5,4,8.64,1,0.68\\r\\n282,317,110,3,4,4.5,9.11,1,0.8\\r\\n283,312,106,3,4,3.5,8.79,1,0.81\\r\\n284,321,111,3,2.5,3,8.9,1,0.8\\r\\n285,340,112,4,5,4.5,9.66,1,0.94\\r\\n286,331,116,5,4,4,9.26,1,0.93\\r\\n287,336,118,5,4.5,4,9.19,1,0.92\\r\\n288,324,114,5,5,4.5,9.08,1,0.89\\r\\n289,314,104,4,5,5,9.02,0,0.82\\r\\n290,313,109,3,4,3.5,9,0,0.79\\r\\n291,307,105,2,2.5,3,7.65,0,0.58\\r\\n292,300,102,2,1.5,2,7.87,0,0.56\\r\\n293,302,99,2,1,2,7.97,0,0.56\\r\\n294,312,98,1,3.5,3,8.18,1,0.64\\r\\n295,316,101,2,2.5,2,8.32,1,0.61\\r\\n296,317,100,2,3,2.5,8.57,0,0.68\\r\\n297,310,107,3,3.5,3.5,8.67,0,0.76\\r\\n298,320,120,3,4,4.5,9.11,0,0.86\\r\\n299,330,114,3,4.5,4.5,9.24,1,0.9\\r\\n300,305,112,3,3,3.5,8.65,0,0.71\\r\\n301,309,106,2,2.5,2.5,8,0,0.62\\r\\n302,319,108,2,2.5,3,8.76,0,0.66\\r\\n303,322,105,2,3,3,8.45,1,0.65\\r\\n304,323,107,3,3.5,3.5,8.55,1,0.73\\r\\n305,313,106,2,2.5,2,8.43,0,0.62\\r\\n306,321,109,3,3.5,3.5,8.8,1,0.74\\r\\n307,323,110,3,4,3.5,9.1,1,0.79\\r\\n308,325,112,4,4,4,9,1,0.8\\r\\n309,312,108,3,3.5,3,8.53,0,0.69\\r\\n310,308,110,4,3.5,3,8.6,0,0.7\\r\\n311,320,104,3,3,3.5,8.74,1,0.76\\r\\n312,328,108,4,4.5,4,9.18,1,0.84\\r\\n313,311,107,4,4.5,4.5,9,1,0.78\\r\\n314,301,100,3,3.5,3,8.04,0,0.67\\r\\n315,305,105,2,3,4,8.13,0,0.66\\r\\n316,308,104,2,2.5,3,8.07,0,0.65\\r\\n317,298,101,2,1.5,2,7.86,0,0.54\\r\\n318,300,99,1,1,2.5,8.01,0,0.58\\r\\n319,324,111,3,2.5,2,8.8,1,0.79\\r\\n320,327,113,4,3.5,3,8.69,1,0.8\\r\\n321,317,106,3,4,3.5,8.5,1,0.75\\r\\n322,323,104,3,4,4,8.44,1,0.73\\r\\n323,314,107,2,2.5,4,8.27,0,0.72\\r\\n324,305,102,2,2,2.5,8.18,0,0.62\\r\\n325,315,104,3,3,2.5,8.33,0,0.67\\r\\n326,326,116,3,3.5,4,9.14,1,0.81\\r\\n327,299,100,3,2,2,8.02,0,0.63\\r\\n328,295,101,2,2.5,2,7.86,0,0.69\\r\\n329,324,112,4,4,3.5,8.77,1,0.8\\r\\n330,297,96,2,2.5,1.5,7.89,0,0.43\\r\\n331,327,113,3,3.5,3,8.66,1,0.8\\r\\n332,311,105,2,3,2,8.12,1,0.73\\r\\n333,308,106,3,3.5,2.5,8.21,1,0.75\\r\\n334,319,108,3,3,3.5,8.54,1,0.71\\r\\n335,312,107,4,4.5,4,8.65,1,0.73\\r\\n336,325,111,4,4,4.5,9.11,1,0.83\\r\\n337,319,110,3,3,2.5,8.79,0,0.72\\r\\n338,332,118,5,5,5,9.47,1,0.94\\r\\n339,323,108,5,4,4,8.74,1,0.81\\r\\n340,324,107,5,3.5,4,8.66,1,0.81\\r\\n341,312,107,3,3,3,8.46,1,0.75\\r\\n342,326,110,3,3.5,3.5,8.76,1,0.79\\r\\n343,308,106,3,3,3,8.24,0,0.58\\r\\n344,305,103,2,2.5,3.5,8.13,0,0.59\\r\\n345,295,96,2,1.5,2,7.34,0,0.47\\r\\n346,316,98,1,1.5,2,7.43,0,0.49\\r\\n347,304,97,2,1.5,2,7.64,0,0.47\\r\\n348,299,94,1,1,1,7.34,0,0.42\\r\\n349,302,99,1,2,2,7.25,0,0.57\\r\\n350,313,101,3,2.5,3,8.04,0,0.62\\r\\n351,318,107,3,3,3.5,8.27,1,0.74\\r\\n352,325,110,4,3.5,4,8.67,1,0.73\\r\\n353,303,100,2,3,3.5,8.06,1,0.64\\r\\n354,300,102,3,3.5,2.5,8.17,0,0.63\\r\\n355,297,98,2,2.5,3,7.67,0,0.59\\r\\n356,317,106,2,2,3.5,8.12,0,0.73\\r\\n357,327,109,3,3.5,4,8.77,1,0.79\\r\\n358,301,104,2,3.5,3.5,7.89,1,0.68\\r\\n359,314,105,2,2.5,2,7.64,0,0.7\\r\\n360,321,107,2,2,1.5,8.44,0,0.81\\r\\n361,322,110,3,4,5,8.64,1,0.85\\r\\n362,334,116,4,4,3.5,9.54,1,0.93\\r\\n363,338,115,5,4.5,5,9.23,1,0.91\\r\\n364,306,103,2,2.5,3,8.36,0,0.69\\r\\n365,313,102,3,3.5,4,8.9,1,0.77\\r\\n366,330,114,4,4.5,3,9.17,1,0.86\\r\\n367,320,104,3,3.5,4.5,8.34,1,0.74\\r\\n368,311,98,1,1,2.5,7.46,0,0.57\\r\\n369,298,92,1,2,2,7.88,0,0.51\\r\\n370,301,98,1,2,3,8.03,1,0.67\\r\\n371,310,103,2,2.5,2.5,8.24,0,0.72\\r\\n372,324,110,3,3.5,3,9.22,1,0.89\\r\\n373,336,119,4,4.5,4,9.62,1,0.95\\r\\n374,321,109,3,3,3,8.54,1,0.79\\r\\n375,315,105,2,2,2.5,7.65,0,0.39\\r\\n376,304,101,2,2,2.5,7.66,0,0.38\\r\\n377,297,96,2,2.5,2,7.43,0,0.34\\r\\n378,290,100,1,1.5,2,7.56,0,0.47\\r\\n379,303,98,1,2,2.5,7.65,0,0.56\\r\\n380,311,99,1,2.5,3,8.43,1,0.71\\r\\n381,322,104,3,3.5,4,8.84,1,0.78\\r\\n382,319,105,3,3,3.5,8.67,1,0.73\\r\\n383,324,110,4,4.5,4,9.15,1,0.82\\r\\n384,300,100,3,3,3.5,8.26,0,0.62\\r\\n385,340,113,4,5,5,9.74,1,0.96\\r\\n386,335,117,5,5,5,9.82,1,0.96\\r\\n387,302,101,2,2.5,3.5,7.96,0,0.46\\r\\n388,307,105,2,2,3.5,8.1,0,0.53\\r\\n389,296,97,2,1.5,2,7.8,0,0.49\\r\\n390,320,108,3,3.5,4,8.44,1,0.76\\r\\n391,314,102,2,2,2.5,8.24,0,0.64\\r\\n392,318,106,3,2,3,8.65,0,0.71\\r\\n393,326,112,4,4,3.5,9.12,1,0.84\\r\\n394,317,104,2,3,3,8.76,0,0.77\\r\\n395,329,111,4,4.5,4,9.23,1,0.89\\r\\n396,324,110,3,3.5,3.5,9.04,1,0.82\\r\\n397,325,107,3,3,3.5,9.11,1,0.84\\r\\n398,330,116,4,5,4.5,9.45,1,0.91\\r\\n399,312,103,3,3.5,4,8.78,0,0.67\\r\\n400,333,117,4,5,4,9.66,1,0.95'}"
            ]
          },
          "metadata": {},
          "execution_count": 2
        }
      ]
    },
    {
      "cell_type": "code",
      "metadata": {
        "colab": {
          "base_uri": "https://localhost:8080/"
        },
        "id": "osMGcPby1rPU",
        "outputId": "f704cb5f-a098-428d-d85d-515e2f67ff6d"
      },
      "source": [
        "df = pd.read_csv('Admission_Predict.csv')\n",
        "print(df.columns)"
      ],
      "execution_count": null,
      "outputs": [
        {
          "output_type": "stream",
          "text": [
            "Index(['Serial No.', 'GRE Score', 'TOEFL Score', 'University Rating', 'SOP',\n",
            "       'LOR ', 'CGPA', 'Research', 'Chance of Admit '],\n",
            "      dtype='object')\n"
          ],
          "name": "stdout"
        }
      ]
    },
    {
      "cell_type": "code",
      "metadata": {
        "colab": {
          "base_uri": "https://localhost:8080/",
          "height": 204
        },
        "id": "h-s-0lZowik5",
        "outputId": "d1b74609-dd21-4652-a7d3-d8990be6140b"
      },
      "source": [
        "df.head()"
      ],
      "execution_count": null,
      "outputs": [
        {
          "output_type": "execute_result",
          "data": {
            "text/html": [
              "<div>\n",
              "<style scoped>\n",
              "    .dataframe tbody tr th:only-of-type {\n",
              "        vertical-align: middle;\n",
              "    }\n",
              "\n",
              "    .dataframe tbody tr th {\n",
              "        vertical-align: top;\n",
              "    }\n",
              "\n",
              "    .dataframe thead th {\n",
              "        text-align: right;\n",
              "    }\n",
              "</style>\n",
              "<table border=\"1\" class=\"dataframe\">\n",
              "  <thead>\n",
              "    <tr style=\"text-align: right;\">\n",
              "      <th></th>\n",
              "      <th>Serial No.</th>\n",
              "      <th>GRE Score</th>\n",
              "      <th>TOEFL Score</th>\n",
              "      <th>University Rating</th>\n",
              "      <th>SOP</th>\n",
              "      <th>LOR</th>\n",
              "      <th>CGPA</th>\n",
              "      <th>Research</th>\n",
              "      <th>Chance of Admit</th>\n",
              "    </tr>\n",
              "  </thead>\n",
              "  <tbody>\n",
              "    <tr>\n",
              "      <th>0</th>\n",
              "      <td>1</td>\n",
              "      <td>337</td>\n",
              "      <td>118</td>\n",
              "      <td>4</td>\n",
              "      <td>4.5</td>\n",
              "      <td>4.5</td>\n",
              "      <td>9.65</td>\n",
              "      <td>1</td>\n",
              "      <td>0.92</td>\n",
              "    </tr>\n",
              "    <tr>\n",
              "      <th>1</th>\n",
              "      <td>2</td>\n",
              "      <td>324</td>\n",
              "      <td>107</td>\n",
              "      <td>4</td>\n",
              "      <td>4.0</td>\n",
              "      <td>4.5</td>\n",
              "      <td>8.87</td>\n",
              "      <td>1</td>\n",
              "      <td>0.76</td>\n",
              "    </tr>\n",
              "    <tr>\n",
              "      <th>2</th>\n",
              "      <td>3</td>\n",
              "      <td>316</td>\n",
              "      <td>104</td>\n",
              "      <td>3</td>\n",
              "      <td>3.0</td>\n",
              "      <td>3.5</td>\n",
              "      <td>8.00</td>\n",
              "      <td>1</td>\n",
              "      <td>0.72</td>\n",
              "    </tr>\n",
              "    <tr>\n",
              "      <th>3</th>\n",
              "      <td>4</td>\n",
              "      <td>322</td>\n",
              "      <td>110</td>\n",
              "      <td>3</td>\n",
              "      <td>3.5</td>\n",
              "      <td>2.5</td>\n",
              "      <td>8.67</td>\n",
              "      <td>1</td>\n",
              "      <td>0.80</td>\n",
              "    </tr>\n",
              "    <tr>\n",
              "      <th>4</th>\n",
              "      <td>5</td>\n",
              "      <td>314</td>\n",
              "      <td>103</td>\n",
              "      <td>2</td>\n",
              "      <td>2.0</td>\n",
              "      <td>3.0</td>\n",
              "      <td>8.21</td>\n",
              "      <td>0</td>\n",
              "      <td>0.65</td>\n",
              "    </tr>\n",
              "  </tbody>\n",
              "</table>\n",
              "</div>"
            ],
            "text/plain": [
              "   Serial No.  GRE Score  TOEFL Score  ...  CGPA  Research  Chance of Admit \n",
              "0           1        337          118  ...  9.65         1              0.92\n",
              "1           2        324          107  ...  8.87         1              0.76\n",
              "2           3        316          104  ...  8.00         1              0.72\n",
              "3           4        322          110  ...  8.67         1              0.80\n",
              "4           5        314          103  ...  8.21         0              0.65\n",
              "\n",
              "[5 rows x 9 columns]"
            ]
          },
          "metadata": {
            "tags": []
          },
          "execution_count": 62
        }
      ]
    },
    {
      "cell_type": "code",
      "metadata": {
        "colab": {
          "base_uri": "https://localhost:8080/",
          "height": 204
        },
        "id": "xDZtB5LRwik6",
        "outputId": "8e3d2034-d0f3-47ed-f2f0-902e78fc752b"
      },
      "source": [
        "df.tail()"
      ],
      "execution_count": null,
      "outputs": [
        {
          "output_type": "execute_result",
          "data": {
            "text/html": [
              "<div>\n",
              "<style scoped>\n",
              "    .dataframe tbody tr th:only-of-type {\n",
              "        vertical-align: middle;\n",
              "    }\n",
              "\n",
              "    .dataframe tbody tr th {\n",
              "        vertical-align: top;\n",
              "    }\n",
              "\n",
              "    .dataframe thead th {\n",
              "        text-align: right;\n",
              "    }\n",
              "</style>\n",
              "<table border=\"1\" class=\"dataframe\">\n",
              "  <thead>\n",
              "    <tr style=\"text-align: right;\">\n",
              "      <th></th>\n",
              "      <th>Serial No.</th>\n",
              "      <th>GRE Score</th>\n",
              "      <th>TOEFL Score</th>\n",
              "      <th>University Rating</th>\n",
              "      <th>SOP</th>\n",
              "      <th>LOR</th>\n",
              "      <th>CGPA</th>\n",
              "      <th>Research</th>\n",
              "      <th>Chance of Admit</th>\n",
              "    </tr>\n",
              "  </thead>\n",
              "  <tbody>\n",
              "    <tr>\n",
              "      <th>395</th>\n",
              "      <td>396</td>\n",
              "      <td>324</td>\n",
              "      <td>110</td>\n",
              "      <td>3</td>\n",
              "      <td>3.5</td>\n",
              "      <td>3.5</td>\n",
              "      <td>9.04</td>\n",
              "      <td>1</td>\n",
              "      <td>0.82</td>\n",
              "    </tr>\n",
              "    <tr>\n",
              "      <th>396</th>\n",
              "      <td>397</td>\n",
              "      <td>325</td>\n",
              "      <td>107</td>\n",
              "      <td>3</td>\n",
              "      <td>3.0</td>\n",
              "      <td>3.5</td>\n",
              "      <td>9.11</td>\n",
              "      <td>1</td>\n",
              "      <td>0.84</td>\n",
              "    </tr>\n",
              "    <tr>\n",
              "      <th>397</th>\n",
              "      <td>398</td>\n",
              "      <td>330</td>\n",
              "      <td>116</td>\n",
              "      <td>4</td>\n",
              "      <td>5.0</td>\n",
              "      <td>4.5</td>\n",
              "      <td>9.45</td>\n",
              "      <td>1</td>\n",
              "      <td>0.91</td>\n",
              "    </tr>\n",
              "    <tr>\n",
              "      <th>398</th>\n",
              "      <td>399</td>\n",
              "      <td>312</td>\n",
              "      <td>103</td>\n",
              "      <td>3</td>\n",
              "      <td>3.5</td>\n",
              "      <td>4.0</td>\n",
              "      <td>8.78</td>\n",
              "      <td>0</td>\n",
              "      <td>0.67</td>\n",
              "    </tr>\n",
              "    <tr>\n",
              "      <th>399</th>\n",
              "      <td>400</td>\n",
              "      <td>333</td>\n",
              "      <td>117</td>\n",
              "      <td>4</td>\n",
              "      <td>5.0</td>\n",
              "      <td>4.0</td>\n",
              "      <td>9.66</td>\n",
              "      <td>1</td>\n",
              "      <td>0.95</td>\n",
              "    </tr>\n",
              "  </tbody>\n",
              "</table>\n",
              "</div>"
            ],
            "text/plain": [
              "     Serial No.  GRE Score  TOEFL Score  ...  CGPA  Research  Chance of Admit \n",
              "395         396        324          110  ...  9.04         1              0.82\n",
              "396         397        325          107  ...  9.11         1              0.84\n",
              "397         398        330          116  ...  9.45         1              0.91\n",
              "398         399        312          103  ...  8.78         0              0.67\n",
              "399         400        333          117  ...  9.66         1              0.95\n",
              "\n",
              "[5 rows x 9 columns]"
            ]
          },
          "metadata": {
            "tags": []
          },
          "execution_count": 63
        }
      ]
    },
    {
      "cell_type": "code",
      "metadata": {
        "colab": {
          "base_uri": "https://localhost:8080/",
          "height": 204
        },
        "id": "t38-Pp2Kwik6",
        "outputId": "8563536a-1477-4248-b980-eef800a99da7"
      },
      "source": [
        "df.sample(5)"
      ],
      "execution_count": null,
      "outputs": [
        {
          "output_type": "execute_result",
          "data": {
            "text/html": [
              "<div>\n",
              "<style scoped>\n",
              "    .dataframe tbody tr th:only-of-type {\n",
              "        vertical-align: middle;\n",
              "    }\n",
              "\n",
              "    .dataframe tbody tr th {\n",
              "        vertical-align: top;\n",
              "    }\n",
              "\n",
              "    .dataframe thead th {\n",
              "        text-align: right;\n",
              "    }\n",
              "</style>\n",
              "<table border=\"1\" class=\"dataframe\">\n",
              "  <thead>\n",
              "    <tr style=\"text-align: right;\">\n",
              "      <th></th>\n",
              "      <th>Serial No.</th>\n",
              "      <th>GRE Score</th>\n",
              "      <th>TOEFL Score</th>\n",
              "      <th>University Rating</th>\n",
              "      <th>SOP</th>\n",
              "      <th>LOR</th>\n",
              "      <th>CGPA</th>\n",
              "      <th>Research</th>\n",
              "      <th>Chance of Admit</th>\n",
              "    </tr>\n",
              "  </thead>\n",
              "  <tbody>\n",
              "    <tr>\n",
              "      <th>23</th>\n",
              "      <td>24</td>\n",
              "      <td>334</td>\n",
              "      <td>119</td>\n",
              "      <td>5</td>\n",
              "      <td>5.0</td>\n",
              "      <td>4.5</td>\n",
              "      <td>9.70</td>\n",
              "      <td>1</td>\n",
              "      <td>0.95</td>\n",
              "    </tr>\n",
              "    <tr>\n",
              "      <th>356</th>\n",
              "      <td>357</td>\n",
              "      <td>327</td>\n",
              "      <td>109</td>\n",
              "      <td>3</td>\n",
              "      <td>3.5</td>\n",
              "      <td>4.0</td>\n",
              "      <td>8.77</td>\n",
              "      <td>1</td>\n",
              "      <td>0.79</td>\n",
              "    </tr>\n",
              "    <tr>\n",
              "      <th>378</th>\n",
              "      <td>379</td>\n",
              "      <td>303</td>\n",
              "      <td>98</td>\n",
              "      <td>1</td>\n",
              "      <td>2.0</td>\n",
              "      <td>2.5</td>\n",
              "      <td>7.65</td>\n",
              "      <td>0</td>\n",
              "      <td>0.56</td>\n",
              "    </tr>\n",
              "    <tr>\n",
              "      <th>252</th>\n",
              "      <td>253</td>\n",
              "      <td>318</td>\n",
              "      <td>100</td>\n",
              "      <td>2</td>\n",
              "      <td>2.5</td>\n",
              "      <td>3.5</td>\n",
              "      <td>8.54</td>\n",
              "      <td>1</td>\n",
              "      <td>0.71</td>\n",
              "    </tr>\n",
              "    <tr>\n",
              "      <th>117</th>\n",
              "      <td>118</td>\n",
              "      <td>290</td>\n",
              "      <td>104</td>\n",
              "      <td>4</td>\n",
              "      <td>2.0</td>\n",
              "      <td>2.5</td>\n",
              "      <td>7.46</td>\n",
              "      <td>0</td>\n",
              "      <td>0.45</td>\n",
              "    </tr>\n",
              "  </tbody>\n",
              "</table>\n",
              "</div>"
            ],
            "text/plain": [
              "     Serial No.  GRE Score  TOEFL Score  ...  CGPA  Research  Chance of Admit \n",
              "23           24        334          119  ...  9.70         1              0.95\n",
              "356         357        327          109  ...  8.77         1              0.79\n",
              "378         379        303           98  ...  7.65         0              0.56\n",
              "252         253        318          100  ...  8.54         1              0.71\n",
              "117         118        290          104  ...  7.46         0              0.45\n",
              "\n",
              "[5 rows x 9 columns]"
            ]
          },
          "metadata": {
            "tags": []
          },
          "execution_count": 64
        }
      ]
    },
    {
      "cell_type": "code",
      "metadata": {
        "colab": {
          "base_uri": "https://localhost:8080/",
          "height": 297
        },
        "id": "JQGyzUD0wik6",
        "outputId": "85e69348-03fc-4c26-a25a-fa70b8d5275c"
      },
      "source": [
        "df.describe()"
      ],
      "execution_count": null,
      "outputs": [
        {
          "output_type": "execute_result",
          "data": {
            "text/html": [
              "<div>\n",
              "<style scoped>\n",
              "    .dataframe tbody tr th:only-of-type {\n",
              "        vertical-align: middle;\n",
              "    }\n",
              "\n",
              "    .dataframe tbody tr th {\n",
              "        vertical-align: top;\n",
              "    }\n",
              "\n",
              "    .dataframe thead th {\n",
              "        text-align: right;\n",
              "    }\n",
              "</style>\n",
              "<table border=\"1\" class=\"dataframe\">\n",
              "  <thead>\n",
              "    <tr style=\"text-align: right;\">\n",
              "      <th></th>\n",
              "      <th>Serial No.</th>\n",
              "      <th>GRE Score</th>\n",
              "      <th>TOEFL Score</th>\n",
              "      <th>University Rating</th>\n",
              "      <th>SOP</th>\n",
              "      <th>LOR</th>\n",
              "      <th>CGPA</th>\n",
              "      <th>Research</th>\n",
              "      <th>Chance of Admit</th>\n",
              "    </tr>\n",
              "  </thead>\n",
              "  <tbody>\n",
              "    <tr>\n",
              "      <th>count</th>\n",
              "      <td>400.000000</td>\n",
              "      <td>400.000000</td>\n",
              "      <td>400.000000</td>\n",
              "      <td>400.000000</td>\n",
              "      <td>400.000000</td>\n",
              "      <td>400.000000</td>\n",
              "      <td>400.000000</td>\n",
              "      <td>400.000000</td>\n",
              "      <td>400.000000</td>\n",
              "    </tr>\n",
              "    <tr>\n",
              "      <th>mean</th>\n",
              "      <td>200.500000</td>\n",
              "      <td>316.807500</td>\n",
              "      <td>107.410000</td>\n",
              "      <td>3.087500</td>\n",
              "      <td>3.400000</td>\n",
              "      <td>3.452500</td>\n",
              "      <td>8.598925</td>\n",
              "      <td>0.547500</td>\n",
              "      <td>0.724350</td>\n",
              "    </tr>\n",
              "    <tr>\n",
              "      <th>std</th>\n",
              "      <td>115.614301</td>\n",
              "      <td>11.473646</td>\n",
              "      <td>6.069514</td>\n",
              "      <td>1.143728</td>\n",
              "      <td>1.006869</td>\n",
              "      <td>0.898478</td>\n",
              "      <td>0.596317</td>\n",
              "      <td>0.498362</td>\n",
              "      <td>0.142609</td>\n",
              "    </tr>\n",
              "    <tr>\n",
              "      <th>min</th>\n",
              "      <td>1.000000</td>\n",
              "      <td>290.000000</td>\n",
              "      <td>92.000000</td>\n",
              "      <td>1.000000</td>\n",
              "      <td>1.000000</td>\n",
              "      <td>1.000000</td>\n",
              "      <td>6.800000</td>\n",
              "      <td>0.000000</td>\n",
              "      <td>0.340000</td>\n",
              "    </tr>\n",
              "    <tr>\n",
              "      <th>25%</th>\n",
              "      <td>100.750000</td>\n",
              "      <td>308.000000</td>\n",
              "      <td>103.000000</td>\n",
              "      <td>2.000000</td>\n",
              "      <td>2.500000</td>\n",
              "      <td>3.000000</td>\n",
              "      <td>8.170000</td>\n",
              "      <td>0.000000</td>\n",
              "      <td>0.640000</td>\n",
              "    </tr>\n",
              "    <tr>\n",
              "      <th>50%</th>\n",
              "      <td>200.500000</td>\n",
              "      <td>317.000000</td>\n",
              "      <td>107.000000</td>\n",
              "      <td>3.000000</td>\n",
              "      <td>3.500000</td>\n",
              "      <td>3.500000</td>\n",
              "      <td>8.610000</td>\n",
              "      <td>1.000000</td>\n",
              "      <td>0.730000</td>\n",
              "    </tr>\n",
              "    <tr>\n",
              "      <th>75%</th>\n",
              "      <td>300.250000</td>\n",
              "      <td>325.000000</td>\n",
              "      <td>112.000000</td>\n",
              "      <td>4.000000</td>\n",
              "      <td>4.000000</td>\n",
              "      <td>4.000000</td>\n",
              "      <td>9.062500</td>\n",
              "      <td>1.000000</td>\n",
              "      <td>0.830000</td>\n",
              "    </tr>\n",
              "    <tr>\n",
              "      <th>max</th>\n",
              "      <td>400.000000</td>\n",
              "      <td>340.000000</td>\n",
              "      <td>120.000000</td>\n",
              "      <td>5.000000</td>\n",
              "      <td>5.000000</td>\n",
              "      <td>5.000000</td>\n",
              "      <td>9.920000</td>\n",
              "      <td>1.000000</td>\n",
              "      <td>0.970000</td>\n",
              "    </tr>\n",
              "  </tbody>\n",
              "</table>\n",
              "</div>"
            ],
            "text/plain": [
              "       Serial No.   GRE Score  ...    Research  Chance of Admit \n",
              "count  400.000000  400.000000  ...  400.000000        400.000000\n",
              "mean   200.500000  316.807500  ...    0.547500          0.724350\n",
              "std    115.614301   11.473646  ...    0.498362          0.142609\n",
              "min      1.000000  290.000000  ...    0.000000          0.340000\n",
              "25%    100.750000  308.000000  ...    0.000000          0.640000\n",
              "50%    200.500000  317.000000  ...    1.000000          0.730000\n",
              "75%    300.250000  325.000000  ...    1.000000          0.830000\n",
              "max    400.000000  340.000000  ...    1.000000          0.970000\n",
              "\n",
              "[8 rows x 9 columns]"
            ]
          },
          "metadata": {
            "tags": []
          },
          "execution_count": 65
        }
      ]
    },
    {
      "cell_type": "code",
      "metadata": {
        "colab": {
          "base_uri": "https://localhost:8080/",
          "height": 295
        },
        "id": "jj0iuo6bwik7",
        "outputId": "0860994d-7b29-49be-ab73-be7c6a094798"
      },
      "source": [
        "import matplotlib.pyplot as plt\n",
        "plt.scatter(df['GRE Score'],df['CGPA'])\n",
        "plt.title(\"CGPA vs GRE Scores\")\n",
        "plt.xlabel(\"GRE Score\")\n",
        "plt.ylabel(\"CGPA\")\n",
        "plt.show()\n"
      ],
      "execution_count": null,
      "outputs": [
        {
          "output_type": "display_data",
          "data": {
            "image/png": "[encoded data removed]",
            "text/plain": [
              "<Figure size 432x288 with 1 Axes>"
            ]
          },
          "metadata": {
            "tags": [],
            "needs_background": "light"
          }
        }
      ]
    },
    {
      "cell_type": "code",
      "metadata": {
        "colab": {
          "base_uri": "https://localhost:8080/",
          "height": 295
        },
        "id": "bLM6GFpAwik7",
        "outputId": "c7a3bb7f-0c60-4f2d-bc54-e89e95091b54"
      },
      "source": [
        "plt.scatter(df[\"CGPA\"],df.SOP)\n",
        "plt.xlabel(\"CGPA\")\n",
        "plt.ylabel(\"SOP\")\n",
        "plt.title(\"SOP for CGPA\")\n",
        "plt.show()\n"
      ],
      "execution_count": null,
      "outputs": [
        {
          "output_type": "display_data",
          "data": {
            "image/png": "[encoded data removed]",
            "text/plain": [
              "<Figure size 432x288 with 1 Axes>"
            ]
          },
          "metadata": {
            "tags": [],
            "needs_background": "light"
          }
        }
      ]
    },
    {
      "cell_type": "code",
      "metadata": {
        "id": "9rKST5p8wik7",
        "colab": {
          "base_uri": "https://localhost:8080/",
          "height": 295
        },
        "outputId": "35b00ac7-21f4-49f1-8ca1-6fa93fe8c8b1"
      },
      "source": [
        "df[df.CGPA >= 8.5].plot(kind='scatter', x='GRE Score', y='TOEFL Score',color=\"red\")\n",
        "plt.xlabel(\"GRE Score\")\n",
        "plt.ylabel(\"TOEFL SCORE\")\n",
        "plt.title(\"CGPA>=8.5\")\n",
        "plt.grid(True)\n",
        "plt.show()"
      ],
      "execution_count": null,
      "outputs": [
        {
          "output_type": "display_data",
          "data": {
            "image/png": "[encoded data removed]",
            "text/plain": [
              "<Figure size 432x288 with 1 Axes>"
            ]
          },
          "metadata": {
            "tags": [],
            "needs_background": "light"
          }
        }
      ]
    },
    {
      "cell_type": "code",
      "metadata": {
        "colab": {
          "base_uri": "https://localhost:8080/",
          "height": 404
        },
        "id": "5XWH01AZwik8",
        "outputId": "56932ffa-de15-49e2-ecd9-6824680a282f"
      },
      "source": [
        "df[\"GRE Score\"].plot(kind = 'hist',bins = 200,figsize = (6,6))\n",
        "plt.title(\"GRE Scores\")\n",
        "plt.xlabel(\"GRE Score\")\n",
        "plt.ylabel(\"Frequency\")\n",
        "plt.show()"
      ],
      "execution_count": null,
      "outputs": [
        {
          "output_type": "display_data",
          "data": {
            "image/png": "[encoded data removed]",
            "text/plain": [
              "<Figure size 432x432 with 1 Axes>"
            ]
          },
          "metadata": {
            "tags": [],
            "needs_background": "light"
          }
        }
      ]
    },
    {
      "cell_type": "code",
      "metadata": {
        "colab": {
          "base_uri": "https://localhost:8080/",
          "height": 295
        },
        "id": "X6erlz9vwik8",
        "outputId": "f1ce68a6-2c08-4592-d922-2cf0d98bb27e"
      },
      "source": [
        "import numpy as np\n",
        "y = np.array([df[\"TOEFL Score\"].min(),df[\"TOEFL Score\"].mean(),df[\"TOEFL Score\"].max()])\n",
        "x = [\"Worst\",\"Average\",\"Best\"]\n",
        "plt.bar(x,y)\n",
        "plt.title(\"TOEFL Scores\")\n",
        "plt.xlabel(\"Level\")\n",
        "plt.ylabel(\"TOEFL Score\")\n",
        "plt.show()\n"
      ],
      "execution_count": null,
      "outputs": [
        {
          "output_type": "display_data",
          "data": {
            "image/png": "[encoded data removed]",
            "text/plain": [
              "<Figure size 432x288 with 1 Axes>"
            ]
          },
          "metadata": {
            "tags": [],
            "needs_background": "light"
          }
        }
      ]
    },
    {
      "cell_type": "code",
      "metadata": {
        "id": "hvTXDBYhwik8",
        "colab": {
          "base_uri": "https://localhost:8080/"
        },
        "outputId": "5b94f349-8cd0-4904-e268-2f7c40cc6d47"
      },
      "source": [
        "df.dtypes\n",
        "df.shape\n",
        "\n"
      ],
      "execution_count": null,
      "outputs": [
        {
          "output_type": "execute_result",
          "data": {
            "text/plain": [
              "(400, 9)"
            ]
          },
          "metadata": {
            "tags": []
          },
          "execution_count": 13
        }
      ]
    },
    {
      "cell_type": "code",
      "metadata": {
        "colab": {
          "base_uri": "https://localhost:8080/",
          "height": 672
        },
        "id": "v5J3cQtWwik9",
        "outputId": "f068a609-ee98-40c6-cdfa-41775f96ae49"
      },
      "source": [
        "import seaborn as sns\n",
        "plt.figure(figsize=(10, 10))\n",
        "sns.heatmap(df.corr(), annot=True, linewidths=0.05, fmt= '.2f',cmap=\"magma\")\n",
        "plt.show()"
      ],
      "execution_count": null,
      "outputs": [
        {
          "output_type": "display_data",
          "data": {
            "image/png": "[encoded data removed]",
            "text/plain": [
              "<Figure size 720x720 with 2 Axes>"
            ]
          },
          "metadata": {
            "tags": [],
            "needs_background": "light"
          }
        }
      ]
    },
    {
      "cell_type": "code",
      "metadata": {
        "colab": {
          "base_uri": "https://localhost:8080/"
        },
        "id": "JOLVnVsuwik9",
        "outputId": "1d2e5cc6-0ffd-4c88-ee3b-420e7b580438"
      },
      "source": [
        "df.Research.value_counts()"
      ],
      "execution_count": null,
      "outputs": [
        {
          "output_type": "execute_result",
          "data": {
            "text/plain": [
              "1    219\n",
              "0    181\n",
              "Name: Research, dtype: int64"
            ]
          },
          "metadata": {
            "tags": []
          },
          "execution_count": 15
        }
      ]
    },
    {
      "cell_type": "code",
      "metadata": {
        "scrolled": false,
        "id": "HXJ4a5oIwik9",
        "colab": {
          "base_uri": "https://localhost:8080/",
          "height": 279
        },
        "outputId": "05221e40-3215-42b5-aa85-b3c189cf0068"
      },
      "source": [
        "sns.countplot(x=\"University Rating\",data=df)\n",
        "plt.show()"
      ],
      "execution_count": null,
      "outputs": [
        {
          "output_type": "display_data",
          "data": {
            "image/png": "[encoded data removed]",
            "text/plain": [
              "<Figure size 432x288 with 1 Axes>"
            ]
          },
          "metadata": {
            "tags": [],
            "needs_background": "light"
          }
        }
      ]
    },
    {
      "cell_type": "code",
      "metadata": {
        "id": "sN8I4ZJIwik9",
        "colab": {
          "base_uri": "https://localhost:8080/",
          "height": 297
        },
        "outputId": "3bb67fc6-7a84-4d0c-f8fe-47afe2905449"
      },
      "source": [
        "sns.countplot(x=\"University Rating\",hue=\"Research\",data=df)\n"
      ],
      "execution_count": null,
      "outputs": [
        {
          "output_type": "execute_result",
          "data": {
            "text/plain": [
              "<matplotlib.axes._subplots.AxesSubplot at 0x7f5822258490>"
            ]
          },
          "metadata": {
            "tags": []
          },
          "execution_count": 17
        },
        {
          "output_type": "display_data",
          "data": {
            "image/png": "[encoded data removed]",
            "text/plain": [
              "<Figure size 432x288 with 1 Axes>"
            ]
          },
          "metadata": {
            "tags": [],
            "needs_background": "light"
          }
        }
      ]
    },
    {
      "cell_type": "code",
      "metadata": {
        "colab": {
          "base_uri": "https://localhost:8080/",
          "height": 297
        },
        "id": "P3E-5slWwik-",
        "outputId": "be79caf2-b9da-4c32-f30e-c5652eca0794"
      },
      "source": [
        "sns.barplot(x=\"University Rating\", y=\"Chance of Admit \", data=df)"
      ],
      "execution_count": null,
      "outputs": [
        {
          "output_type": "execute_result",
          "data": {
            "text/plain": [
              "<matplotlib.axes._subplots.AxesSubplot at 0x7f6d0dd10390>"
            ]
          },
          "metadata": {
            "tags": []
          },
          "execution_count": 20
        },
        {
          "output_type": "display_data",
          "data": {
            "image/png": "[encoded data removed]",
            "text/plain": [
              "<Figure size 432x288 with 1 Axes>"
            ]
          },
          "metadata": {
            "tags": [],
            "needs_background": "light"
          }
        }
      ]
    },
    {
      "cell_type": "code",
      "metadata": {
        "colab": {
          "base_uri": "https://localhost:8080/",
          "height": 297
        },
        "id": "QMtdK8-Qwik-",
        "outputId": "04456dcd-03ce-4254-f9d0-48a7d530ebe1"
      },
      "source": [
        "sns.barplot(x=\"University Rating\", y=\"Chance of Admit \", hue=\"Research\", data=df)"
      ],
      "execution_count": null,
      "outputs": [
        {
          "output_type": "execute_result",
          "data": {
            "text/plain": [
              "<matplotlib.axes._subplots.AxesSubplot at 0x7f58208f2fd0>"
            ]
          },
          "metadata": {
            "tags": []
          },
          "execution_count": 18
        },
        {
          "output_type": "display_data",
          "data": {
            "image/png": "[encoded data removed]",
            "text/plain": [
              "<Figure size 432x288 with 1 Axes>"
            ]
          },
          "metadata": {
            "tags": [],
            "needs_background": "light"
          }
        }
      ]
    },
    {
      "cell_type": "code",
      "metadata": {
        "id": "GrE3Xsumwik-"
      },
      "source": [
        "df.drop([\"Serial No.\"],axis=1,inplace = True)\n",
        "\n",
        "df=df.rename(columns = {'Chance of Admit ':'Chance of Admit'})\n"
      ],
      "execution_count": null,
      "outputs": []
    },
    {
      "cell_type": "code",
      "metadata": {
        "id": "6cA4AssKwik-"
      },
      "source": [
        "y = df[\"Chance of Admit\"]\n",
        "\n",
        "X = df.drop([\"Chance of Admit\"],axis=1)"
      ],
      "execution_count": null,
      "outputs": []
    },
    {
      "cell_type": "code",
      "metadata": {
        "id": "ueNtYFL7wik-"
      },
      "source": [
        "from sklearn.model_selection import train_test_split\n",
        "X_train,X_test,y_train,y_test = train_test_split(X,y,test_size = 0.20,random_state=42)\n",
        "X_train\n",
        "y_test"
      ],
      "execution_count": null,
      "outputs": []
    },
    {
      "cell_type": "code",
      "metadata": {
        "id": "QePLp83nwik_",
        "colab": {
          "base_uri": "https://localhost:8080/",
          "height": 846
        },
        "outputId": "dc01eb94-30da-40cd-ec30-e56549ef158c"
      },
      "source": [
        "from sklearn.preprocessing import MinMaxScaler\n",
        "scalerX = MinMaxScaler(feature_range=(0, 1))\n",
        "X_train[x_train.columns] = scalerX.fit_transform(X_train[X_train.columns])\n",
        "X_test[X_test.columns] = scalerX.transform(X_test[X_test.columns])\n",
        "X_train\n"
      ],
      "execution_count": null,
      "outputs": [
        {
          "output_type": "stream",
          "text": [
            "/usr/local/lib/python3.7/dist-packages/ipykernel_launcher.py:3: SettingWithCopyWarning: \n",
            "A value is trying to be set on a copy of a slice from a DataFrame.\n",
            "Try using .loc[row_indexer,col_indexer] = value instead\n",
            "\n",
            "See the caveats in the documentation: https://pandas.pydata.org/pandas-docs/stable/user_guide/indexing.html#returning-a-view-versus-a-copy\n",
            "  This is separate from the ipykernel package so we can avoid doing imports until\n",
            "/usr/local/lib/python3.7/dist-packages/pandas/core/indexing.py:1734: SettingWithCopyWarning: \n",
            "A value is trying to be set on a copy of a slice from a DataFrame.\n",
            "Try using .loc[row_indexer,col_indexer] = value instead\n",
            "\n",
            "See the caveats in the documentation: https://pandas.pydata.org/pandas-docs/stable/user_guide/indexing.html#returning-a-view-versus-a-copy\n",
            "  isetter(loc, value[:, i].tolist())\n",
            "/usr/local/lib/python3.7/dist-packages/ipykernel_launcher.py:4: SettingWithCopyWarning: \n",
            "A value is trying to be set on a copy of a slice from a DataFrame.\n",
            "Try using .loc[row_indexer,col_indexer] = value instead\n",
            "\n",
            "See the caveats in the documentation: https://pandas.pydata.org/pandas-docs/stable/user_guide/indexing.html#returning-a-view-versus-a-copy\n",
            "  after removing the cwd from sys.path.\n",
            "/usr/local/lib/python3.7/dist-packages/pandas/core/indexing.py:1734: SettingWithCopyWarning: \n",
            "A value is trying to be set on a copy of a slice from a DataFrame.\n",
            "Try using .loc[row_indexer,col_indexer] = value instead\n",
            "\n",
            "See the caveats in the documentation: https://pandas.pydata.org/pandas-docs/stable/user_guide/indexing.html#returning-a-view-versus-a-copy\n",
            "  isetter(loc, value[:, i].tolist())\n"
          ],
          "name": "stderr"
        },
        {
          "output_type": "execute_result",
          "data": {
            "text/html": [
              "<div>\n",
              "<style scoped>\n",
              "    .dataframe tbody tr th:only-of-type {\n",
              "        vertical-align: middle;\n",
              "    }\n",
              "\n",
              "    .dataframe tbody tr th {\n",
              "        vertical-align: top;\n",
              "    }\n",
              "\n",
              "    .dataframe thead th {\n",
              "        text-align: right;\n",
              "    }\n",
              "</style>\n",
              "<table border=\"1\" class=\"dataframe\">\n",
              "  <thead>\n",
              "    <tr style=\"text-align: right;\">\n",
              "      <th></th>\n",
              "      <th>GRE Score</th>\n",
              "      <th>TOEFL Score</th>\n",
              "      <th>University Rating</th>\n",
              "      <th>SOP</th>\n",
              "      <th>LOR</th>\n",
              "      <th>CGPA</th>\n",
              "      <th>Research</th>\n",
              "    </tr>\n",
              "  </thead>\n",
              "  <tbody>\n",
              "    <tr>\n",
              "      <th>3</th>\n",
              "      <td>0.64</td>\n",
              "      <td>0.642857</td>\n",
              "      <td>0.50</td>\n",
              "      <td>0.625</td>\n",
              "      <td>0.375</td>\n",
              "      <td>0.599359</td>\n",
              "      <td>1.0</td>\n",
              "    </tr>\n",
              "    <tr>\n",
              "      <th>18</th>\n",
              "      <td>0.56</td>\n",
              "      <td>0.642857</td>\n",
              "      <td>0.50</td>\n",
              "      <td>0.750</td>\n",
              "      <td>0.500</td>\n",
              "      <td>0.641026</td>\n",
              "      <td>0.0</td>\n",
              "    </tr>\n",
              "    <tr>\n",
              "      <th>202</th>\n",
              "      <td>1.00</td>\n",
              "      <td>1.000000</td>\n",
              "      <td>1.00</td>\n",
              "      <td>0.875</td>\n",
              "      <td>0.875</td>\n",
              "      <td>0.996795</td>\n",
              "      <td>1.0</td>\n",
              "    </tr>\n",
              "    <tr>\n",
              "      <th>250</th>\n",
              "      <td>0.60</td>\n",
              "      <td>0.428571</td>\n",
              "      <td>0.50</td>\n",
              "      <td>0.500</td>\n",
              "      <td>0.375</td>\n",
              "      <td>0.567308</td>\n",
              "      <td>1.0</td>\n",
              "    </tr>\n",
              "    <tr>\n",
              "      <th>274</th>\n",
              "      <td>0.50</td>\n",
              "      <td>0.285714</td>\n",
              "      <td>0.00</td>\n",
              "      <td>0.250</td>\n",
              "      <td>0.375</td>\n",
              "      <td>0.368590</td>\n",
              "      <td>0.0</td>\n",
              "    </tr>\n",
              "    <tr>\n",
              "      <th>...</th>\n",
              "      <td>...</td>\n",
              "      <td>...</td>\n",
              "      <td>...</td>\n",
              "      <td>...</td>\n",
              "      <td>...</td>\n",
              "      <td>...</td>\n",
              "      <td>...</td>\n",
              "    </tr>\n",
              "    <tr>\n",
              "      <th>71</th>\n",
              "      <td>0.92</td>\n",
              "      <td>0.714286</td>\n",
              "      <td>1.00</td>\n",
              "      <td>1.000</td>\n",
              "      <td>1.000</td>\n",
              "      <td>0.948718</td>\n",
              "      <td>1.0</td>\n",
              "    </tr>\n",
              "    <tr>\n",
              "      <th>106</th>\n",
              "      <td>0.78</td>\n",
              "      <td>0.678571</td>\n",
              "      <td>0.75</td>\n",
              "      <td>0.875</td>\n",
              "      <td>0.875</td>\n",
              "      <td>0.762821</td>\n",
              "      <td>1.0</td>\n",
              "    </tr>\n",
              "    <tr>\n",
              "      <th>270</th>\n",
              "      <td>0.32</td>\n",
              "      <td>0.464286</td>\n",
              "      <td>0.25</td>\n",
              "      <td>0.375</td>\n",
              "      <td>0.500</td>\n",
              "      <td>0.455128</td>\n",
              "      <td>1.0</td>\n",
              "    </tr>\n",
              "    <tr>\n",
              "      <th>348</th>\n",
              "      <td>0.24</td>\n",
              "      <td>0.250000</td>\n",
              "      <td>0.00</td>\n",
              "      <td>0.250</td>\n",
              "      <td>0.250</td>\n",
              "      <td>0.144231</td>\n",
              "      <td>0.0</td>\n",
              "    </tr>\n",
              "    <tr>\n",
              "      <th>102</th>\n",
              "      <td>0.48</td>\n",
              "      <td>0.500000</td>\n",
              "      <td>0.25</td>\n",
              "      <td>0.750</td>\n",
              "      <td>0.625</td>\n",
              "      <td>0.464744</td>\n",
              "      <td>0.0</td>\n",
              "    </tr>\n",
              "  </tbody>\n",
              "</table>\n",
              "<p>320 rows × 7 columns</p>\n",
              "</div>"
            ],
            "text/plain": [
              "     GRE Score  TOEFL Score  University Rating  ...   LOR       CGPA  Research\n",
              "3         0.64     0.642857               0.50  ...  0.375  0.599359       1.0\n",
              "18        0.56     0.642857               0.50  ...  0.500  0.641026       0.0\n",
              "202       1.00     1.000000               1.00  ...  0.875  0.996795       1.0\n",
              "250       0.60     0.428571               0.50  ...  0.375  0.567308       1.0\n",
              "274       0.50     0.285714               0.00  ...  0.375  0.368590       0.0\n",
              "..         ...          ...                ...  ...    ...       ...       ...\n",
              "71        0.92     0.714286               1.00  ...  1.000  0.948718       1.0\n",
              "106       0.78     0.678571               0.75  ...  0.875  0.762821       1.0\n",
              "270       0.32     0.464286               0.25  ...  0.500  0.455128       1.0\n",
              "348       0.24     0.250000               0.00  ...  0.250  0.144231       0.0\n",
              "102       0.48     0.500000               0.25  ...  0.625  0.464744       0.0\n",
              "\n",
              "[320 rows x 7 columns]"
            ]
          },
          "metadata": {
            "tags": []
          },
          "execution_count": 69
        }
      ]
    },
    {
      "cell_type": "code",
      "metadata": {
        "id": "90KwxFBuwik_",
        "colab": {
          "base_uri": "https://localhost:8080/"
        },
        "outputId": "1937068f-93b8-4eb7-d23b-cece6614dbc9"
      },
      "source": [
        "from sklearn.linear_model import LinearRegression\n",
        "model = LinearRegression()\n",
        "model.fit(X_train,y_train)\n",
        "y_predict = model.predict(X_test)\n",
        "\n",
        "score=model.score(X_test, y_test)\n",
        "print(score)\n",
        "\n"
      ],
      "execution_count": null,
      "outputs": [
        {
          "output_type": "stream",
          "text": [
            "0.8212082591486991\n"
          ],
          "name": "stdout"
        }
      ]
    },
    {
      "cell_type": "code",
      "metadata": {
        "id": "09xSDNydwik_",
        "colab": {
          "base_uri": "https://localhost:8080/"
        },
        "outputId": "358bbf7b-53d1-4685-c5bc-2b2831075765"
      },
      "source": [
        "print (y_predict[0:5])\n"
      ],
      "execution_count": null,
      "outputs": [
        {
          "output_type": "stream",
          "text": [
            "[0.65117446 0.72368741 0.93536809 0.82164316 0.58158673]\n"
          ],
          "name": "stdout"
        }
      ]
    },
    {
      "cell_type": "code",
      "metadata": {
        "colab": {
          "base_uri": "https://localhost:8080/"
        },
        "id": "8Hq5uXIvTSX2",
        "outputId": "afb84bf9-2be3-494f-c5e3-4471041c8693"
      },
      "source": [
        "\n",
        "print(y_test[0:5])"
      ],
      "execution_count": null,
      "outputs": [
        {
          "output_type": "stream",
          "text": [
            "209    0.68\n",
            "280    0.68\n",
            "33     0.90\n",
            "210    0.79\n",
            "93     0.44\n",
            "Name: Chance of Admit, dtype: float64\n"
          ],
          "name": "stdout"
        }
      ]
    },
    {
      "cell_type": "code",
      "metadata": {
        "id": "ZqAUwotLwik_",
        "colab": {
          "base_uri": "https://localhost:8080/"
        },
        "outputId": "e0a5141f-6e27-46ba-d77a-4ad61165f6db"
      },
      "source": [
        "gre=int(input(\"What is your GRE Score (between 290 to 340):\"))\n",
        "toefl=int(input(\"What is your TOEFL Score (between 90 to 120):\"))\n",
        "univ=int(input(\"What is your University Rating ( 1 to 5 ):\"))\n",
        "sop=int(input(\"Rate your Statement of Purpose ( 1 to 5):\"))\n",
        "lor=int(input(\"What is strength of  your Letter of Recommendation ( 1 to 5) :\"))\n",
        "cgpa=int(input(\"What is your CGPA ( 6 to 10):\"))\n",
        "research=int(input(\"Do You have Research Experience (Enter 0 for No and 1 for Yes:\"))\n",
        "\n",
        "newx=[[gre,toefl,univ,sop,lor,cgpa,research]]\n",
        "\n",
        "newy=model.predict(newx)\n",
        "\n",
        "print(\"Your Chance of Admission is: \",newy)\n",
        "\n"
      ],
      "execution_count": null,
      "outputs": [
        {
          "output_type": "stream",
          "text": [
            "What is your GRE Score (between 290 to 340):337\n",
            "What is your TOEFL Score (between 90 to 120):118\n",
            "What is your University Rating ( 1 to 5 ):4\n",
            "Rate your Statement of Purpose ( 1 to 5):4\n",
            "What is strength of  your Letter of Recommendation ( 1 to 5) :4\n",
            "What is your CGPA ( 6 to 10):9\n",
            "Do You have Research Experience (Enter 0 for No and 1 for Yes:1\n",
            "Your Chance of Admission is:  [44.35324413]\n"
          ],
          "name": "stdout"
        }
      ]
    },
    {
      "cell_type": "code",
      "metadata": {
        "id": "4bzY4fvuwilA",
        "colab": {
          "base_uri": "https://localhost:8080/"
        },
        "outputId": "3b5d89c3-d178-41d8-b39d-a135eb23f067"
      },
      "source": [
        "from sklearn.ensemble import RandomForestRegressor\n",
        "rfr = RandomForestRegressor(n_estimators = 100, random_state = 42)\n",
        "rfr.fit(X_train,y_train)\n",
        "y_predict_rfr = rfr.predict(X_test) \n",
        "\n",
        "score_rfr=rfr.score(X_test, y_test)\n",
        "print(score_rfr)"
      ],
      "execution_count": null,
      "outputs": [
        {
          "output_type": "stream",
          "text": [
            "0.8074111823415694\n"
          ],
          "name": "stdout"
        }
      ]
    },
    {
      "cell_type": "code",
      "metadata": {
        "id": "Ged2e63hwilA",
        "colab": {
          "base_uri": "https://localhost:8080/"
        },
        "outputId": "576aa180-2ea6-47ca-cb49-8ee327b55198"
      },
      "source": [
        "from sklearn.tree import DecisionTreeRegressor\n",
        "dtr = DecisionTreeRegressor(random_state = 42)\n",
        "dtr.fit(x_train,y_train)\n",
        "y_predict_dtr = dtr.predict(X_test) \n",
        "\n",
        "score_dtr=dtr.score(X_test, y_test)\n",
        "print(score_dtr)"
      ],
      "execution_count": null,
      "outputs": [
        {
          "output_type": "stream",
          "text": [
            "0.6262105228127393\n"
          ],
          "name": "stdout"
        }
      ]
    },
    {
      "cell_type": "code",
      "metadata": {
        "id": "VWJFO8uYwilA",
        "colab": {
          "base_uri": "https://localhost:8080/"
        },
        "outputId": "22c66773-62d1-4653-f521-72c4f6f1f1a0"
      },
      "source": [
        "print('Coefficients: \\n', model.coef_)\n",
        "print(model.intercept_)"
      ],
      "execution_count": null,
      "outputs": [
        {
          "output_type": "stream",
          "text": [
            "Coefficients: \n",
            " [ 0.09312548  0.07626324  0.0295098  -0.00117097  0.06308097  0.35776778\n",
            "  0.02222705]\n",
            "0.36307849847239304\n"
          ],
          "name": "stdout"
        }
      ]
    },
    {
      "cell_type": "code",
      "metadata": {
        "id": "RdLkdupcwilA",
        "colab": {
          "base_uri": "https://localhost:8080/",
          "height": 419
        },
        "outputId": "1bb4623f-a733-462f-8628-c79dc339fb45"
      },
      "source": [
        "\n",
        "df = pd.DataFrame({'Actual': y_test, 'Predicted': y_predict})\n",
        "df"
      ],
      "execution_count": null,
      "outputs": [
        {
          "output_type": "execute_result",
          "data": {
            "text/html": [
              "<div>\n",
              "<style scoped>\n",
              "    .dataframe tbody tr th:only-of-type {\n",
              "        vertical-align: middle;\n",
              "    }\n",
              "\n",
              "    .dataframe tbody tr th {\n",
              "        vertical-align: top;\n",
              "    }\n",
              "\n",
              "    .dataframe thead th {\n",
              "        text-align: right;\n",
              "    }\n",
              "</style>\n",
              "<table border=\"1\" class=\"dataframe\">\n",
              "  <thead>\n",
              "    <tr style=\"text-align: right;\">\n",
              "      <th></th>\n",
              "      <th>Actual</th>\n",
              "      <th>Predicted</th>\n",
              "    </tr>\n",
              "  </thead>\n",
              "  <tbody>\n",
              "    <tr>\n",
              "      <th>209</th>\n",
              "      <td>0.68</td>\n",
              "      <td>0.651174</td>\n",
              "    </tr>\n",
              "    <tr>\n",
              "      <th>280</th>\n",
              "      <td>0.68</td>\n",
              "      <td>0.723687</td>\n",
              "    </tr>\n",
              "    <tr>\n",
              "      <th>33</th>\n",
              "      <td>0.90</td>\n",
              "      <td>0.935368</td>\n",
              "    </tr>\n",
              "    <tr>\n",
              "      <th>210</th>\n",
              "      <td>0.79</td>\n",
              "      <td>0.821643</td>\n",
              "    </tr>\n",
              "    <tr>\n",
              "      <th>93</th>\n",
              "      <td>0.44</td>\n",
              "      <td>0.581587</td>\n",
              "    </tr>\n",
              "    <tr>\n",
              "      <th>...</th>\n",
              "      <td>...</td>\n",
              "      <td>...</td>\n",
              "    </tr>\n",
              "    <tr>\n",
              "      <th>246</th>\n",
              "      <td>0.72</td>\n",
              "      <td>0.721818</td>\n",
              "    </tr>\n",
              "    <tr>\n",
              "      <th>227</th>\n",
              "      <td>0.64</td>\n",
              "      <td>0.689644</td>\n",
              "    </tr>\n",
              "    <tr>\n",
              "      <th>369</th>\n",
              "      <td>0.67</td>\n",
              "      <td>0.594426</td>\n",
              "    </tr>\n",
              "    <tr>\n",
              "      <th>176</th>\n",
              "      <td>0.90</td>\n",
              "      <td>0.878406</td>\n",
              "    </tr>\n",
              "    <tr>\n",
              "      <th>289</th>\n",
              "      <td>0.79</td>\n",
              "      <td>0.757793</td>\n",
              "    </tr>\n",
              "  </tbody>\n",
              "</table>\n",
              "<p>80 rows × 2 columns</p>\n",
              "</div>"
            ],
            "text/plain": [
              "     Actual  Predicted\n",
              "209    0.68   0.651174\n",
              "280    0.68   0.723687\n",
              "33     0.90   0.935368\n",
              "210    0.79   0.821643\n",
              "93     0.44   0.581587\n",
              "..      ...        ...\n",
              "246    0.72   0.721818\n",
              "227    0.64   0.689644\n",
              "369    0.67   0.594426\n",
              "176    0.90   0.878406\n",
              "289    0.79   0.757793\n",
              "\n",
              "[80 rows x 2 columns]"
            ]
          },
          "metadata": {
            "tags": []
          },
          "execution_count": 77
        }
      ]
    },
    {
      "cell_type": "code",
      "metadata": {
        "id": "MeBSvbtkwilA",
        "colab": {
          "base_uri": "https://localhost:8080/"
        },
        "outputId": "5be0a51b-a72b-459c-f47d-0c9d5ee4e186"
      },
      "source": [
        "from sklearn.metrics import mean_squared_error, r2_score,mean_absolute_error\n",
        "import numpy as np\n",
        "\n",
        "print('Mean Absolute Error:', mean_absolute_error(y_test, y_predict))  \n",
        "print('Mean Squared Error:', mean_squared_error(y_test, y_predict))  \n",
        "print('Root Mean Squared Error:', np.sqrt(mean_squared_error(y_test, y_predict)))"
      ],
      "execution_count": null,
      "outputs": [
        {
          "output_type": "stream",
          "text": [
            "Mean Absolute Error: 0.04795673362091199\n",
            "Mean Squared Error: 0.004617003377285012\n",
            "Root Mean Squared Error: 0.06794853476922819\n"
          ],
          "name": "stdout"
        }
      ]
    },
    {
      "cell_type": "code",
      "metadata": {
        "id": "5MUsKG6owilB",
        "colab": {
          "base_uri": "https://localhost:8080/",
          "height": 295
        },
        "outputId": "63954eb7-b683-420b-f9c0-1e0756f13e79"
      },
      "source": [
        "import numpy as np\n",
        "red = plt.scatter(np.arange(0,80,5),y_predict[0:80:5],color = \"red\")\n",
        "green = plt.scatter(np.arange(0,80,5),y_predict_rfr[0:80:5],color = \"green\")\n",
        "blue = plt.scatter(np.arange(0,80,5),y_predict_dtr[0:80:5],color = \"blue\")\n",
        "black = plt.scatter(np.arange(0,80,5),y_test[0:80:5],color = \"black\")\n",
        "plt.title(\"Comparison of Regression Algorithms\")\n",
        "plt.xlabel(\"Index of Candidate\")\n",
        "plt.ylabel(\"Chance of Admit\")\n",
        "plt.legend((red,green,blue,black),('LR', 'RFR', 'DTR', 'REAL'))\n",
        "plt.show()"
      ],
      "execution_count": null,
      "outputs": [
        {
          "output_type": "display_data",
          "data": {
            "image/png": "[encoded data removed]",
            "text/plain": [
              "<Figure size 432x288 with 1 Axes>"
            ]
          },
          "metadata": {
            "tags": [],
            "needs_background": "light"
          }
        }
      ]
    }
  ]
}